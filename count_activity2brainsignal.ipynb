{
 "cells": [
  {
   "cell_type": "code",
   "execution_count": 1,
   "metadata": {},
   "outputs": [],
   "source": [
    "import sys \n",
    "import os \n",
    "import os.path as osp \n",
    "\n",
    "import numpy as np \n",
    "import pandas as pd "
   ]
  },
  {
   "cell_type": "code",
   "execution_count": 2,
   "metadata": {},
   "outputs": [],
   "source": [
    "def read_excel(Path:str) -> pd.core.frame.DataFrame: \n",
    "    df = pd.read_excel(Path, index_col = 0 ) # (ref) https://pandas.pydata.org/docs/reference/api/pandas.read_excel.html\n",
    "    df = df.dropna(axis=0)  # drop rows(axis=0) including NaN\n",
    "\n",
    "    return df"
   ]
  },
  {
   "cell_type": "code",
   "execution_count": 3,
   "metadata": {},
   "outputs": [
    {
     "name": "stdout",
     "output_type": "stream",
     "text": [
      "['semi_indiv_category1', 'semi_indiv_category2', 'semi_indiv_category3', 'semi_indiv_category4', 'semi_indiv_category5', 'semi_indiv_category6']\n"
     ]
    }
   ],
   "source": [
    "rootDir = \"data\"\n",
    "targetFeature = \"indiv\"\n",
    "categoryPath = osp.join(rootDir, targetFeature)\n",
    "category_list = sorted(os.listdir(categoryPath ))\n",
    "print(category_list)\n",
    "\n",
    "action_category = category_list[0] # select a category "
   ]
  },
  {
   "cell_type": "code",
   "execution_count": 4,
   "metadata": {},
   "outputs": [
    {
     "name": "stdout",
     "output_type": "stream",
     "text": [
      "['100_semi_indiv_category1.xlsx', '101_semi_indiv_category1.xlsx', '102_semi_indiv_category1.xlsx', '103_semi_indiv_category1.xlsx', '104_semi_indiv_category1.xlsx', '105_semi_indiv_category1.xlsx', '107_semi_indiv_category1.xlsx', '108_semi_indiv_category1.xlsx', '109_semi_indiv_category1.xlsx', '110_semi_indiv_category1.xlsx', '111_semi_indiv_category1.xlsx', '112_semi_indiv_category1.xlsx', '113_semi_indiv_category1.xlsx', '114_semi_indiv_category1.xlsx', '115_semi_indiv_category1.xlsx', '117_semi_indiv_category1.xlsx', '119_semi_indiv_category1.xlsx', '120_semi_indiv_category1.xlsx', '121_semi_indiv_category1.xlsx', '122_semi_indiv_category1.xlsx', '123_semi_indiv_category1.xlsx', '124_semi_indiv_category1.xlsx', '125_semi_indiv_category1.xlsx', '126_semi_indiv_category1.xlsx', '127_semi_indiv_category1.xlsx', '129_semi_indiv_category1.xlsx']\n"
     ]
    }
   ],
   "source": [
    "subj_files = sorted(os.listdir(osp.join(categoryPath, action_category )))\n",
    "print(subj_files)"
   ]
  },
  {
   "cell_type": "code",
   "execution_count": 5,
   "metadata": {},
   "outputs": [
    {
     "data": {
      "text/html": [
       "<div>\n",
       "<style scoped>\n",
       "    .dataframe tbody tr th:only-of-type {\n",
       "        vertical-align: middle;\n",
       "    }\n",
       "\n",
       "    .dataframe tbody tr th {\n",
       "        vertical-align: top;\n",
       "    }\n",
       "\n",
       "    .dataframe thead th {\n",
       "        text-align: right;\n",
       "    }\n",
       "</style>\n",
       "<table border=\"1\" class=\"dataframe\">\n",
       "  <thead>\n",
       "    <tr style=\"text-align: right;\">\n",
       "      <th></th>\n",
       "      <th>Start_min</th>\n",
       "      <th>Start_sec</th>\n",
       "      <th>End_min</th>\n",
       "      <th>End_sec</th>\n",
       "      <th>Indiv_feature</th>\n",
       "      <th>Motion</th>\n",
       "      <th>label_ 1</th>\n",
       "      <th>label_ 2</th>\n",
       "      <th>label_ 3</th>\n",
       "      <th>label_ 4</th>\n",
       "      <th>label_ 5</th>\n",
       "      <th>label_ 6</th>\n",
       "      <th>label_ 7</th>\n",
       "      <th>label_ 8</th>\n",
       "      <th>label_ 9</th>\n",
       "      <th>label_10</th>\n",
       "      <th>label_11</th>\n",
       "      <th>label_12</th>\n",
       "      <th>label_13</th>\n",
       "      <th>label_14</th>\n",
       "    </tr>\n",
       "    <tr>\n",
       "      <th>Num</th>\n",
       "      <th></th>\n",
       "      <th></th>\n",
       "      <th></th>\n",
       "      <th></th>\n",
       "      <th></th>\n",
       "      <th></th>\n",
       "      <th></th>\n",
       "      <th></th>\n",
       "      <th></th>\n",
       "      <th></th>\n",
       "      <th></th>\n",
       "      <th></th>\n",
       "      <th></th>\n",
       "      <th></th>\n",
       "      <th></th>\n",
       "      <th></th>\n",
       "      <th></th>\n",
       "      <th></th>\n",
       "      <th></th>\n",
       "      <th></th>\n",
       "    </tr>\n",
       "  </thead>\n",
       "  <tbody>\n",
       "    <tr>\n",
       "      <th>4</th>\n",
       "      <td>0</td>\n",
       "      <td>35</td>\n",
       "      <td>0</td>\n",
       "      <td>36</td>\n",
       "      <td>-1.613804</td>\n",
       "      <td>얼굴 찡그림</td>\n",
       "      <td>0</td>\n",
       "      <td>0</td>\n",
       "      <td>0</td>\n",
       "      <td>0</td>\n",
       "      <td>0</td>\n",
       "      <td>0</td>\n",
       "      <td>0</td>\n",
       "      <td>0</td>\n",
       "      <td>0</td>\n",
       "      <td>1</td>\n",
       "      <td>0</td>\n",
       "      <td>0</td>\n",
       "      <td>0</td>\n",
       "      <td>0</td>\n",
       "    </tr>\n",
       "    <tr>\n",
       "      <th>5</th>\n",
       "      <td>0</td>\n",
       "      <td>36</td>\n",
       "      <td>0</td>\n",
       "      <td>58</td>\n",
       "      <td>-1.214109</td>\n",
       "      <td>의자 흔듬</td>\n",
       "      <td>0</td>\n",
       "      <td>0</td>\n",
       "      <td>0</td>\n",
       "      <td>0</td>\n",
       "      <td>0</td>\n",
       "      <td>0</td>\n",
       "      <td>0</td>\n",
       "      <td>0</td>\n",
       "      <td>1</td>\n",
       "      <td>0</td>\n",
       "      <td>0</td>\n",
       "      <td>0</td>\n",
       "      <td>0</td>\n",
       "      <td>0</td>\n",
       "    </tr>\n",
       "    <tr>\n",
       "      <th>6</th>\n",
       "      <td>1</td>\n",
       "      <td>2</td>\n",
       "      <td>1</td>\n",
       "      <td>8</td>\n",
       "      <td>-0.408723</td>\n",
       "      <td>의자 흔듬</td>\n",
       "      <td>0</td>\n",
       "      <td>0</td>\n",
       "      <td>0</td>\n",
       "      <td>0</td>\n",
       "      <td>0</td>\n",
       "      <td>0</td>\n",
       "      <td>0</td>\n",
       "      <td>0</td>\n",
       "      <td>1</td>\n",
       "      <td>0</td>\n",
       "      <td>0</td>\n",
       "      <td>0</td>\n",
       "      <td>0</td>\n",
       "      <td>0</td>\n",
       "    </tr>\n",
       "    <tr>\n",
       "      <th>7</th>\n",
       "      <td>1</td>\n",
       "      <td>20</td>\n",
       "      <td>1</td>\n",
       "      <td>22</td>\n",
       "      <td>-0.016706</td>\n",
       "      <td>의자 흔듬</td>\n",
       "      <td>0</td>\n",
       "      <td>0</td>\n",
       "      <td>0</td>\n",
       "      <td>0</td>\n",
       "      <td>0</td>\n",
       "      <td>0</td>\n",
       "      <td>0</td>\n",
       "      <td>0</td>\n",
       "      <td>1</td>\n",
       "      <td>0</td>\n",
       "      <td>0</td>\n",
       "      <td>0</td>\n",
       "      <td>0</td>\n",
       "      <td>0</td>\n",
       "    </tr>\n",
       "    <tr>\n",
       "      <th>8</th>\n",
       "      <td>1</td>\n",
       "      <td>22</td>\n",
       "      <td>1</td>\n",
       "      <td>26</td>\n",
       "      <td>-0.025956</td>\n",
       "      <td>자세 바로잡기 + 얼굴 찡그림</td>\n",
       "      <td>0</td>\n",
       "      <td>0</td>\n",
       "      <td>0</td>\n",
       "      <td>0</td>\n",
       "      <td>0</td>\n",
       "      <td>0</td>\n",
       "      <td>0</td>\n",
       "      <td>0</td>\n",
       "      <td>0</td>\n",
       "      <td>1</td>\n",
       "      <td>1</td>\n",
       "      <td>0</td>\n",
       "      <td>0</td>\n",
       "      <td>0</td>\n",
       "    </tr>\n",
       "  </tbody>\n",
       "</table>\n",
       "</div>"
      ],
      "text/plain": [
       "     Start_min  Start_sec  End_min  End_sec  Indiv_feature            Motion  \\\n",
       "Num                                                                            \n",
       "4            0         35        0       36      -1.613804            얼굴 찡그림   \n",
       "5            0         36        0       58      -1.214109             의자 흔듬   \n",
       "6            1          2        1        8      -0.408723             의자 흔듬   \n",
       "7            1         20        1       22      -0.016706             의자 흔듬   \n",
       "8            1         22        1       26      -0.025956  자세 바로잡기 + 얼굴 찡그림   \n",
       "\n",
       "     label_ 1  label_ 2  label_ 3  label_ 4  label_ 5  label_ 6  label_ 7  \\\n",
       "Num                                                                         \n",
       "4           0         0         0         0         0         0         0   \n",
       "5           0         0         0         0         0         0         0   \n",
       "6           0         0         0         0         0         0         0   \n",
       "7           0         0         0         0         0         0         0   \n",
       "8           0         0         0         0         0         0         0   \n",
       "\n",
       "     label_ 8  label_ 9  label_10  label_11  label_12  label_13  label_14  \n",
       "Num                                                                        \n",
       "4           0         0         1         0         0         0         0  \n",
       "5           0         1         0         0         0         0         0  \n",
       "6           0         1         0         0         0         0         0  \n",
       "7           0         1         0         0         0         0         0  \n",
       "8           0         0         1         1         0         0         0  "
      ]
     },
     "execution_count": 5,
     "metadata": {},
     "output_type": "execute_result"
    }
   ],
   "source": [
    "annoPath = osp.join(categoryPath, action_category, subj_files[0])\n",
    "csv_df = read_excel(annoPath)\n",
    "csv_df.head()"
   ]
  },
  {
   "cell_type": "code",
   "execution_count": 6,
   "metadata": {},
   "outputs": [
    {
     "name": "stdout",
     "output_type": "stream",
     "text": [
      "(350, 20)\n",
      "[0, 0, 0, 0, 0, 0, 0, 0, 0, 1, 0, 0, 0, 0]\n",
      "14\n"
     ]
    }
   ],
   "source": [
    "print(csv_df.shape)\n",
    "anno = csv_df.iloc[0][6:].tolist()\n",
    "\n",
    "print(anno)\n",
    "print(len(anno))# get one-hot vector from "
   ]
  },
  {
   "cell_type": "markdown",
   "metadata": {},
   "source": [
    "## Activity One-Hot"
   ]
  },
  {
   "cell_type": "code",
   "execution_count": 7,
   "metadata": {},
   "outputs": [
    {
     "name": "stdout",
     "output_type": "stream",
     "text": [
      "[[1 0 0 0 0 0 0 0 0 0 0 0 0 0]\n",
      " [0 1 0 0 0 0 0 0 0 0 0 0 0 0]\n",
      " [0 0 1 0 0 0 0 0 0 0 0 0 0 0]\n",
      " [0 0 0 1 0 0 0 0 0 0 0 0 0 0]\n",
      " [0 0 0 0 1 0 0 0 0 0 0 0 0 0]\n",
      " [0 0 0 0 0 1 0 0 0 0 0 0 0 0]\n",
      " [0 0 0 0 0 0 1 0 0 0 0 0 0 0]\n",
      " [0 0 0 0 0 0 0 1 0 0 0 0 0 0]\n",
      " [0 0 0 0 0 0 0 0 1 0 0 0 0 0]\n",
      " [0 0 0 0 0 0 0 0 0 1 0 0 0 0]\n",
      " [0 0 0 0 0 0 0 0 0 0 1 0 0 0]\n",
      " [0 0 0 0 0 0 0 0 0 0 0 1 0 0]\n",
      " [0 0 0 0 0 0 0 0 0 0 0 0 1 0]\n",
      " [0 0 0 0 0 0 0 0 0 0 0 0 0 1]]\n"
     ]
    }
   ],
   "source": [
    "from sklearn.preprocessing import OneHotEncoder\n",
    "# (ref) https://datamasters.co.kr/78\n",
    "\n",
    "s = pd.Series(range(0,14))\n",
    "onehot = OneHotEncoder(sparse=False)\n",
    "\n",
    "activity_label = onehot.fit_transform(s.to_numpy().reshape(-1, 1)).astype('uint8')\n",
    "print(activity_label)"
   ]
  },
  {
   "cell_type": "markdown",
   "metadata": {},
   "source": [
    "## Activity count "
   ]
  },
  {
   "cell_type": "code",
   "execution_count": 8,
   "metadata": {},
   "outputs": [],
   "source": [
    "from collections import OrderedDict\n",
    "\n",
    "activity_dict = OrderedDict()\n",
    "\n",
    "\n",
    "num, _ = csv_df.shape\n",
    "\n",
    "\n",
    "for act_idx, label in enumerate(activity_label):\n",
    "\n",
    "    activity_dict[act_idx] = []\n",
    "\n",
    "    for i in range(num):\n",
    "        anno = csv_df.iloc[i][6:].to_numpy()\n",
    "            \n",
    "        check_act = np.bitwise_and(label, anno)\n",
    "\n",
    "        if np.array_equal(label, check_act): # (ref) https://numpy.org/doc/stable/reference/generated/numpy.array_equal.html\n",
    "            feature = csv_df['Indiv_feature'].iloc[i]\n",
    "            activity_dict[act_idx].append(feature)\n",
    "    "
   ]
  },
  {
   "cell_type": "code",
   "execution_count": 9,
   "metadata": {},
   "outputs": [
    {
     "name": "stdout",
     "output_type": "stream",
     "text": [
      "381\n",
      "(350, 20)\n"
     ]
    }
   ],
   "source": [
    "count = 0\n",
    "\n",
    "for key, val in activity_dict.items():\n",
    "    count += len(val)\n",
    "\n",
    "print(count)\n",
    "print(csv_df.shape)"
   ]
  },
  {
   "cell_type": "code",
   "execution_count": null,
   "metadata": {},
   "outputs": [],
   "source": []
  }
 ],
 "metadata": {
  "interpreter": {
   "hash": "0afb247b3e1cae53132646038c67887b32f10fa18b1a30080e28d8d5dd877602"
  },
  "kernelspec": {
   "display_name": "Python 3.8.11 64-bit ('py38': conda)",
   "name": "python3"
  },
  "language_info": {
   "codemirror_mode": {
    "name": "ipython",
    "version": 3
   },
   "file_extension": ".py",
   "mimetype": "text/x-python",
   "name": "python",
   "nbconvert_exporter": "python",
   "pygments_lexer": "ipython3",
   "version": "3.8.11"
  },
  "orig_nbformat": 4
 },
 "nbformat": 4,
 "nbformat_minor": 2
}